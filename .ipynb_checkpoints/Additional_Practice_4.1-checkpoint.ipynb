{
 "cells": [
  {
   "cell_type": "markdown",
   "metadata": {},
   "source": [
    "<p>1) Write a Python program which accepts a list named : randomList = ['a', 0,2]. \n",
    "    Use exception handling using try-catch which gives the output as:</p>\n",
    "        \n",
    "<br> Output</br>\n",
    " <br>1) If the List element is a alphabet or string, the output will be</br>\n",
    " <br>The entry is a</br>\n",
    " <br>Oops! <class 'ValueError'\\> occured.</br>\n",
    " <br>Next entry.</br>\n",
    " <br><br>2) If the List element is “0”,the output will be</br>\n",
    " <br>The entry is 0</br>\n",
    " <br>Oops! <class 'ZeroDivisionError'\\> occured.</br>\n",
    " <br>Next entry. </br>\n",
    " <br><br>3) If the List element is and integer except 0,then output will be</br>\n",
    " <br>The entry is 2</br>\n",
    " <br>The reciprocal of 2 is 0.5 // reciprocal of an integer</br>"
   ]
  },
  {
   "cell_type": "code",
   "execution_count": 51,
   "metadata": {},
   "outputs": [
    {
     "name": "stdout",
     "output_type": "stream",
     "text": [
      "Entry is a\n",
      "Oops! <class 'TypeError'> occured\n",
      "Next Entry\n",
      "Entry is 0\n",
      "Oops! <class 'ZeroDivisionError'> occured\n",
      "Next Entry\n",
      "Entry is 2\n",
      "<class 'int'>\n",
      "The reciprocal of 2 is 0.5\n"
     ]
    }
   ],
   "source": [
    "#Define function\n",
    "def execption_function(input_val):\n",
    "    try:\n",
    "        print(\"Entry is \"+ str(input_val))\n",
    "        rec=1/input_val\n",
    "        print(type(input_val))\n",
    "        print(\"The reciprocal of {} is {}\".format(input_val,rec))\n",
    "    except Exception as e:\n",
    "        print(\"Oops! \"+str(type(e))+\" occured\")\n",
    "        print(\"Next Entry\")\n",
    "#Declare list              \n",
    "randomList=['a',0,2]\n",
    "#Call function\n",
    "for i in randomList:  \n",
    "         execption_function(i)\n",
    "              \n",
    "              \n",
    "        "
   ]
  },
  {
   "cell_type": "markdown",
   "metadata": {},
   "source": [
    "<br>2) Array out of Bound Exception</br>\n",
    "<br> Write a Python program to give exception “Array Out of Bound”</br> \n",
    "<br>if the\n",
    "user wants to access the elements beyond the list size (use try and exce\n",
    "pt)</br>\n"
   ]
  },
  {
   "cell_type": "code",
   "execution_count": 55,
   "metadata": {},
   "outputs": [
    {
     "name": "stdout",
     "output_type": "stream",
     "text": [
      "Enter index value :5\n",
      "Array Out of Bound\n"
     ]
    }
   ],
   "source": [
    "#Define sample list\n",
    "sample_list=['a','b','c','d']\n",
    "\n",
    "try:\n",
    "    ind=int(input(\"Enter index value :\"))\n",
    "    if(ind > len(sample_list)):\n",
    "#Raise error        \n",
    "        raise IndexError(\"Array Out of Bound\")\n",
    "    print(sample_list[ind])\n",
    "#Print raised error    \n",
    "except IndexError as ie:\n",
    "    print(ie)\n",
    "    \n",
    "    "
   ]
  },
  {
   "cell_type": "markdown",
   "metadata": {},
   "source": [
    "<p>3) Write a python module script that contains fib2() method to calculate the\n",
    "fibonacci series till 1000 and save it as fibo.py.\n",
    "Note : The module created as fibo.py has to be placed in lib\n",
    "folder\n",
    "For linux/ubuntu path = /home/anaconda/lib/python3\n",
    "For Windows path = C:\\Users\\Ajit\\Anaconda3\\Lib</p>"
   ]
  },
  {
   "cell_type": "code",
   "execution_count": 75,
   "metadata": {},
   "outputs": [
    {
     "name": "stdout",
     "output_type": "stream",
     "text": [
      "0, 1, 1, 2, 3, 5, 8, 13, 21, 34, 55, 89, 144, 233, 377, 610, 987, "
     ]
    }
   ],
   "source": [
    "import os, sys\n",
    "lib_path = os.path.abspath(os.path.join('C', 'Users', 'Sidha','Anaconda3', 'Lib'))\n",
    "sys.path.append(lib_path)\n",
    "import fibo\n",
    "    \n",
    "    "
   ]
  },
  {
   "cell_type": "markdown",
   "metadata": {},
   "source": [
    "<p>4) Write a python module script that contains ispalindrome() method to\n",
    "calculate the input string as palindrome string or not and save it as\n",
    "palindrome.py</p>"
   ]
  },
  {
   "cell_type": "code",
   "execution_count": 82,
   "metadata": {},
   "outputs": [
    {
     "name": "stdout",
     "output_type": "stream",
     "text": [
      "Enter String to check for palindrome : malayalam\n",
      "It is palindrome\n"
     ]
    }
   ],
   "source": [
    "import palindrome"
   ]
  },
  {
   "cell_type": "code",
   "execution_count": null,
   "metadata": {},
   "outputs": [],
   "source": []
  }
 ],
 "metadata": {
  "kernelspec": {
   "display_name": "Python 3",
   "language": "python",
   "name": "python3"
  },
  "language_info": {
   "codemirror_mode": {
    "name": "ipython",
    "version": 3
   },
   "file_extension": ".py",
   "mimetype": "text/x-python",
   "name": "python",
   "nbconvert_exporter": "python",
   "pygments_lexer": "ipython3",
   "version": "3.6.5"
  }
 },
 "nbformat": 4,
 "nbformat_minor": 2
}
