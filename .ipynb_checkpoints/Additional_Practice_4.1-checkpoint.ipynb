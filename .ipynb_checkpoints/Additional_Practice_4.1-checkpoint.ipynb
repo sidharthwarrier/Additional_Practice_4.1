{
 "cells": [
  {
   "cell_type": "markdown",
   "metadata": {},
   "source": [
    "<p>1) Write a Python program which accepts a list named : randomList = ['a', 0,2]. \n",
    "    Use exception handling using try-catch which gives the output as:</p>\n",
    "        \n",
    "<br> Output</br>\n",
    " <br>1) If the List element is a alphabet or string, the output will be</br>\n",
    " <br>The entry is a</br>\n",
    " <br>Oops! <class 'ValueError'\\> occured.</br>\n",
    " <br>Next entry.</br>\n",
    " <br><br>2) If the List element is “0”,the output will be</br>\n",
    " <br>The entry is 0</br>\n",
    " <br>Oops! <class 'ZeroDivisionError'\\> occured.</br>\n",
    " <br>Next entry. </br>\n",
    " <br><br>3) If the List element is and integer except 0,then output will be</br>\n",
    " <br>The entry is 2</br>\n",
    " <br>The reciprocal of 2 is 0.5 // reciprocal of an integer</br>"
   ]
  },
  {
   "cell_type": "code",
   "execution_count": 30,
   "metadata": {},
   "outputs": [
    {
     "name": "stdout",
     "output_type": "stream",
     "text": [
      "Entry is a\n",
      "Oops! <class 'ValueError'> occured\n",
      "[0, 2]\n",
      "Oops! <class 'TypeError'> occured\n",
      "[2]\n",
      "Oops! <class 'TypeError'> occured\n",
      "[]\n"
     ]
    }
   ],
   "source": [
    "randomList=['a',0,2]\n",
    "def \n",
    "for i in range(3):\n",
    "    try:\n",
    "        for i in randomList:\n",
    "            print(\"Entry is \"+ i)\n",
    "            rec=1/int(i)\n",
    "            print(\"The reciprocal of {} is {}\".format(i,rec))\n",
    "    except Exception as e:\n",
    "        print(\"Oops! \"+str(type(e))+\" occured\")\n",
    "    finally:\n",
    "        randomList.pop(0)\n",
    "        print(randomList)"
   ]
  },
  {
   "cell_type": "code",
   "execution_count": 50,
   "metadata": {},
   "outputs": [
    {
     "name": "stdout",
     "output_type": "stream",
     "text": [
      "Entry is a\n",
      "Oops! <class 'TypeError'> occured\n",
      "Next Entry\n",
      "Entry is 0\n",
      "Oops! <class 'ZeroDivisionError'> occured\n",
      "Next Entry\n",
      "Entry is 2\n",
      "<class 'int'>\n",
      "The reciprocal of 2 is 0.5\n"
     ]
    }
   ],
   "source": [
    "def execption_function(input_val):\n",
    "    try:\n",
    "        print(\"Entry is \"+ str(input_val))\n",
    "        rec=1/input_val\n",
    "        print(type(input_val))\n",
    "        print(\"The reciprocal of {} is {}\".format(input_val,rec))\n",
    "    except Exception as e:\n",
    "        print(\"Oops! \"+str(type(e))+\" occured\")\n",
    "        print(\"Next Entry\")\n",
    "              \n",
    "randomList=['a',0,2]\n",
    "for i in randomList:  \n",
    "         execption_function(i)\n",
    "              \n",
    "              \n",
    "        "
   ]
  },
  {
   "cell_type": "code",
   "execution_count": null,
   "metadata": {},
   "outputs": [],
   "source": []
  }
 ],
 "metadata": {
  "kernelspec": {
   "display_name": "Python 3",
   "language": "python",
   "name": "python3"
  },
  "language_info": {
   "codemirror_mode": {
    "name": "ipython",
    "version": 3
   },
   "file_extension": ".py",
   "mimetype": "text/x-python",
   "name": "python",
   "nbconvert_exporter": "python",
   "pygments_lexer": "ipython3",
   "version": "3.6.5"
  }
 },
 "nbformat": 4,
 "nbformat_minor": 2
}
