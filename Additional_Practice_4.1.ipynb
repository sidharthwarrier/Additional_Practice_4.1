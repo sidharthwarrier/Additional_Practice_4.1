{
 "cells": [
  {
   "cell_type": "markdown",
   "metadata": {},
   "source": [
    "<p>1) Write a Python program which accepts a list named : randomList = ['a', 0,2]. \n",
    "    Use exception handling using try-catch which gives the output as:</p>\n",
    "        \n",
    "<br> Output</br>\n",
    " <br>1) If the List element is a alphabet or string, the output will be</br>\n",
    " <br>The entry is a</br>\n",
    " <br>Oops! <class 'ValueError'\\> occured.</br>\n",
    " <br>Next entry.</br>\n",
    " <br><br>2) If the List element is “0”,the output will be</br>\n",
    " <br>The entry is 0</br>\n",
    " <br>Oops! <class 'ZeroDivisionError'\\> occured.</br>\n",
    " <br>Next entry. </br>\n",
    " <br><br>3) If the List element is and integer except 0,then output will be</br>\n",
    " <br>The entry is 2</br>\n",
    " <br>The reciprocal of 2 is 0.5 // reciprocal of an integer</br>"
   ]
  },
  {
   "cell_type": "code",
   "execution_count": 51,
   "metadata": {},
   "outputs": [
    {
     "name": "stdout",
     "output_type": "stream",
     "text": [
      "Entry is a\n",
      "Oops! <class 'TypeError'> occured\n",
      "Next Entry\n",
      "Entry is 0\n",
      "Oops! <class 'ZeroDivisionError'> occured\n",
      "Next Entry\n",
      "Entry is 2\n",
      "<class 'int'>\n",
      "The reciprocal of 2 is 0.5\n"
     ]
    }
   ],
   "source": [
    "#Define function\n",
    "def execption_function(input_val):\n",
    "    try:\n",
    "        print(\"Entry is \"+ str(input_val))\n",
    "        rec=1/input_val\n",
    "        print(type(input_val))\n",
    "        print(\"The reciprocal of {} is {}\".format(input_val,rec))\n",
    "    except Exception as e:\n",
    "        print(\"Oops! \"+str(type(e))+\" occured\")\n",
    "        print(\"Next Entry\")\n",
    "#Declare list              \n",
    "randomList=['a',0,2]\n",
    "#Call function\n",
    "for i in randomList:  \n",
    "         execption_function(i)\n",
    "              \n",
    "              \n",
    "        "
   ]
  },
  {
   "cell_type": "markdown",
   "metadata": {},
   "source": [
    "<br>2) Array out of Bound Exception</br>\n",
    "<br> Write a Python program to give exception “Array Out of Bound”</br> \n",
    "<br>if the\n",
    "user wants to access the elements beyond the list size (use try and exce\n",
    "pt)</br>\n"
   ]
  },
  {
   "cell_type": "code",
   "execution_count": 55,
   "metadata": {},
   "outputs": [
    {
     "name": "stdout",
     "output_type": "stream",
     "text": [
      "Enter index value :5\n",
      "Array Out of Bound\n"
     ]
    }
   ],
   "source": [
    "#Define sample list\n",
    "sample_list=['a','b','c','d']\n",
    "\n",
    "try:\n",
    "    ind=int(input(\"Enter index value :\"))\n",
    "    if(ind > len(sample_list)):\n",
    "#Raise error        \n",
    "        raise IndexError(\"Array Out of Bound\")\n",
    "    print(sample_list[ind])\n",
    "#Print raised error    \n",
    "except IndexError as ie:\n",
    "    print(ie)\n",
    "    \n",
    "    "
   ]
  },
  {
   "cell_type": "markdown",
   "metadata": {},
   "source": [
    "<p>3) Write a python module script that contains fib2() method to calculate the\n",
    "fibonacci series till 1000 and save it as fibo.py.\n",
    "Note : The module created as fibo.py has to be placed in lib\n",
    "folder\n",
    "For linux/ubuntu path = /home/anaconda/lib/python3\n",
    "For Windows path = C:\\Users\\Ajit\\Anaconda3\\Lib</p>"
   ]
  },
  {
   "cell_type": "code",
   "execution_count": 75,
   "metadata": {},
   "outputs": [
    {
     "name": "stdout",
     "output_type": "stream",
     "text": [
      "0, 1, 1, 2, 3, 5, 8, 13, 21, 34, 55, 89, 144, 233, 377, 610, 987, "
     ]
    }
   ],
   "source": [
    "import os, sys\n",
    "lib_path = os.path.abspath(os.path.join('C', 'Users', 'Sidha','Anaconda3', 'Lib'))\n",
    "sys.path.append(lib_path)\n",
    "import fibo\n",
    "    \n",
    "    "
   ]
  },
  {
   "cell_type": "markdown",
   "metadata": {},
   "source": [
    "<p>4) Write a python module script that contains ispalindrome() method to\n",
    "calculate the input string as palindrome string or not and save it as\n",
    "palindrome.py</p>"
   ]
  },
  {
   "cell_type": "code",
   "execution_count": 78,
   "metadata": {},
   "outputs": [
    {
     "ename": "NameError",
     "evalue": "name 'self' is not defined",
     "output_type": "error",
     "traceback": [
      "\u001b[1;31m---------------------------------------------------------------------------\u001b[0m",
      "\u001b[1;31mNameError\u001b[0m                                 Traceback (most recent call last)",
      "\u001b[1;32m<ipython-input-78-c7a65b3ae060>\u001b[0m in \u001b[0;36m<module>\u001b[1;34m()\u001b[0m\n\u001b[0;32m      5\u001b[0m \u001b[1;31m#reverse the string\u001b[0m\u001b[1;33m\u001b[0m\u001b[1;33m\u001b[0m\u001b[0m\n\u001b[0;32m      6\u001b[0m     \u001b[0mrev_str\u001b[0m \u001b[1;33m=\u001b[0m \u001b[0mreversed\u001b[0m\u001b[1;33m(\u001b[0m\u001b[0minp_str\u001b[0m\u001b[1;33m)\u001b[0m\u001b[1;33m\u001b[0m\u001b[0m\n\u001b[1;32m----> 7\u001b[1;33m \u001b[1;32mif\u001b[0m \u001b[0mlist\u001b[0m\u001b[1;33m(\u001b[0m\u001b[0mself\u001b[0m\u001b[1;33m.\u001b[0m\u001b[0minp_str\u001b[0m\u001b[1;33m)\u001b[0m \u001b[1;33m==\u001b[0m \u001b[0mlist\u001b[0m\u001b[1;33m(\u001b[0m\u001b[0mrev_str\u001b[0m\u001b[1;33m)\u001b[0m\u001b[1;33m:\u001b[0m\u001b[1;33m\u001b[0m\u001b[0m\n\u001b[0m\u001b[0;32m      8\u001b[0m    \u001b[0mprint\u001b[0m\u001b[1;33m(\u001b[0m\u001b[1;34m\"It is palindrome\"\u001b[0m\u001b[1;33m)\u001b[0m\u001b[1;33m\u001b[0m\u001b[0m\n\u001b[0;32m      9\u001b[0m \u001b[1;32melse\u001b[0m\u001b[1;33m:\u001b[0m\u001b[1;33m\u001b[0m\u001b[0m\n",
      "\u001b[1;31mNameError\u001b[0m: name 'self' is not defined"
     ]
    }
   ],
   "source": [
    "def ispalindrome(self,inp_str):\n",
    "    \n",
    "    \n",
    "#Make string caseless    \n",
    "    self.inp_str = inp_str.casefold()\n",
    "#reverse the string    \n",
    "    rev_str = reversed(inp_str)\n",
    "    if list(selinp_str) == list(rev_str):\n",
    "       print(\"It is palindrome\")\n",
    "    else:\n",
    "       print(\"It is not palindrome\")    \n",
    "\n",
    "inp_str=input(\"Enter String to check for palindrome : \")\n",
    "ispalindrome(inp_str)   "
   ]
  },
  {
   "cell_type": "code",
   "execution_count": null,
   "metadata": {},
   "outputs": [],
   "source": []
  }
 ],
 "metadata": {
  "kernelspec": {
   "display_name": "Python 3",
   "language": "python",
   "name": "python3"
  },
  "language_info": {
   "codemirror_mode": {
    "name": "ipython",
    "version": 3
   },
   "file_extension": ".py",
   "mimetype": "text/x-python",
   "name": "python",
   "nbconvert_exporter": "python",
   "pygments_lexer": "ipython3",
   "version": "3.6.5"
  }
 },
 "nbformat": 4,
 "nbformat_minor": 2
}
