{
 "cells": [
  {
   "cell_type": "markdown",
   "metadata": {},
   "source": [
    "<p>1) Write a Python program which accepts a list named : randomList = ['a', 0,2]. \n",
    "    Use exception handling using try-catch which gives the output as:</p>\n",
    "        \n",
    "<br> Output</br>\n",
    " <br>1) If the List element is a alphabet or string, the output will be</br>\n",
    " <br>The entry is a</br>\n",
    " <br>Oops! <class 'ValueError'\\> occured.</br>\n",
    " <br>Next entry.</br>\n",
    " <br><br>2) If the List element is “0”,the output will be</br>\n",
    " <br>The entry is 0</br>\n",
    " <br>Oops! <class 'ZeroDivisionError'\\> occured.</br>\n",
    " <br>Next entry. </br>\n",
    " <br><br>3) If the List element is and integer except 0,then output will be</br>\n",
    " <br>The entry is 2</br>\n",
    " <br>The reciprocal of 2 is 0.5 // reciprocal of an integer</br>"
   ]
  },
  {
   "cell_type": "code",
   "execution_count": 51,
   "metadata": {},
   "outputs": [
    {
     "name": "stdout",
     "output_type": "stream",
     "text": [
      "Entry is a\n",
      "Oops! <class 'TypeError'> occured\n",
      "Next Entry\n",
      "Entry is 0\n",
      "Oops! <class 'ZeroDivisionError'> occured\n",
      "Next Entry\n",
      "Entry is 2\n",
      "<class 'int'>\n",
      "The reciprocal of 2 is 0.5\n"
     ]
    }
   ],
   "source": [
    "#Define function\n",
    "def execption_function(input_val):\n",
    "    try:\n",
    "        print(\"Entry is \"+ str(input_val))\n",
    "        rec=1/input_val\n",
    "        print(type(input_val))\n",
    "        print(\"The reciprocal of {} is {}\".format(input_val,rec))\n",
    "    except Exception as e:\n",
    "        print(\"Oops! \"+str(type(e))+\" occured\")\n",
    "        print(\"Next Entry\")\n",
    "#Declare list              \n",
    "randomList=['a',0,2]\n",
    "#Call function\n",
    "for i in randomList:  \n",
    "         execption_function(i)\n",
    "              \n",
    "              \n",
    "        "
   ]
  },
  {
   "cell_type": "markdown",
   "metadata": {},
   "source": [
    "<br>2) Array out of Bound Exception</br>\n",
    "<br> Write a Python program to give exception “Array Out of Bound”</br> \n",
    "<br>if the\n",
    "user wants to access the elements beyond the list size (use try and exce\n",
    "pt)</br>\n"
   ]
  },
  {
   "cell_type": "code",
   "execution_count": 55,
   "metadata": {},
   "outputs": [
    {
     "name": "stdout",
     "output_type": "stream",
     "text": [
      "Enter index value :5\n",
      "Array Out of Bound\n"
     ]
    }
   ],
   "source": [
    "#Define sample list\n",
    "sample_list=['a','b','c','d']\n",
    "\n",
    "try:\n",
    "    ind=int(input(\"Enter index value :\"))\n",
    "    if(ind > len(sample_list)):\n",
    "#Raise error        \n",
    "        raise IndexError(\"Array Out of Bound\")\n",
    "    print(sample_list[ind])\n",
    "#Print raised error    \n",
    "except IndexError as ie:\n",
    "    print(ie)\n",
    "    \n",
    "    "
   ]
  },
  {
   "cell_type": "code",
   "execution_count": 72,
   "metadata": {},
   "outputs": [
    {
     "ename": "SyntaxError",
     "evalue": "(unicode error) 'unicodeescape' codec can't decode bytes in position 2-3: truncated \\UXXXXXXXX escape (<ipython-input-72-d4a8e1ff3176>, line 2)",
     "output_type": "error",
     "traceback": [
      "\u001b[1;36m  File \u001b[1;32m\"<ipython-input-72-d4a8e1ff3176>\"\u001b[1;36m, line \u001b[1;32m2\u001b[0m\n\u001b[1;33m    spec = importlib.util.spec_from_file_location(\"fibo.py\", \"C:\\Users\\sidha\\Anaconda3\\Lib\")\u001b[0m\n\u001b[1;37m                                                            ^\u001b[0m\n\u001b[1;31mSyntaxError\u001b[0m\u001b[1;31m:\u001b[0m (unicode error) 'unicodeescape' codec can't decode bytes in position 2-3: truncated \\UXXXXXXXX escape\n"
     ]
    }
   ],
   "source": [
    "import importlib.util\n",
    "spec = importlib.util.spec_from_file_location(\"fibo.py\", \"C:\\Users\\sidha\\Anaconda3\\Lib\")\n",
    "foo = importlib.util.module_from_spec(spec)\n",
    "spec.loader.exec_module(foo)\n",
    "foo.fib2()  \n",
    "import os, sys\n",
    "lib_path = os.path.abspath(os.path.join('C', 'Users', 'Sidha','Anaconda3', 'Lib'))\n",
    "sys.path.append(lib_path)\n",
    "import mymodule\n",
    "    \n",
    "    "
   ]
  },
  {
   "cell_type": "code",
   "execution_count": null,
   "metadata": {},
   "outputs": [],
   "source": []
  }
 ],
 "metadata": {
  "kernelspec": {
   "display_name": "Python 3",
   "language": "python",
   "name": "python3"
  },
  "language_info": {
   "codemirror_mode": {
    "name": "ipython",
    "version": 3
   },
   "file_extension": ".py",
   "mimetype": "text/x-python",
   "name": "python",
   "nbconvert_exporter": "python",
   "pygments_lexer": "ipython3",
   "version": "3.6.5"
  }
 },
 "nbformat": 4,
 "nbformat_minor": 2
}
